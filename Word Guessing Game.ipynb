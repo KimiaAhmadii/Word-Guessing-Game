{
 "cells": [
  {
   "cell_type": "code",
   "execution_count": 10,
   "metadata": {},
   "outputs": [
    {
     "name": "stdout",
     "output_type": "stream",
     "text": [
      "Wrong! Your point is now -1.\n",
      "Remaining attempts: 3\n",
      "Wrong! Your point is now -2.\n",
      "Remaining attempts: 2\n",
      "Wrong! Your point is now -3.\n",
      "Remaining attempts: 1\n",
      "Wrong! Your point is now -4.\n",
      "Remaining attempts: 0\n",
      "You lose :(\n"
     ]
    }
   ],
   "source": [
    "import random\n",
    "\n",
    "play_if = True\n",
    "y_point = 0 \n",
    "attempts = 4  \n",
    "\n",
    "\n",
    "play = [\"phone\", \"paper\", \"book\", \"school\", \"apple\", \"teacher\"]\n",
    "\n",
    "while play_if and attempts > 0:\n",
    "    \n",
    "    rand = random.choice(play)\n",
    "    \n",
    "    \n",
    "    y = input(\"Please enter a word: \")\n",
    "    \n",
    "  \n",
    "    if y == rand:\n",
    "        y_point += 1\n",
    "        print(f\"Correct! Your point is now {y_point}.\")\n",
    "    else:\n",
    "        y_point -= 1\n",
    "        print(f\"Wrong! Your point is now {y_point}.\")\n",
    "    \n",
    "    \n",
    "    attempts -= 1\n",
    "    print(f\"Remaining attempts: {attempts}\")\n",
    "    \n",
    "   \n",
    "    if y_point >= 3:\n",
    "        print(\"You win :)\")\n",
    "        play_if = False \n",
    "    elif attempts == 0:\n",
    "        print(\"You lose :(\")\n",
    "        play_if = False \n",
    "\n"
   ]
  }
 ],
 "metadata": {
  "kernelspec": {
   "display_name": "Python 3",
   "language": "python",
   "name": "python3"
  },
  "language_info": {
   "codemirror_mode": {
    "name": "ipython",
    "version": 3
   },
   "file_extension": ".py",
   "mimetype": "text/x-python",
   "name": "python",
   "nbconvert_exporter": "python",
   "pygments_lexer": "ipython3",
   "version": "3.8.8"
  }
 },
 "nbformat": 4,
 "nbformat_minor": 2
}
